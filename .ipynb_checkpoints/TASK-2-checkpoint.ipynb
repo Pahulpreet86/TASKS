{
 "cells": [
  {
   "cell_type": "markdown",
   "metadata": {},
   "source": [
    "### 2. Staistical Modelling\n"
   ]
  },
  {
   "cell_type": "code",
   "execution_count": 1,
   "metadata": {},
   "outputs": [],
   "source": [
    "import pandas as pd\n",
    "pd.options.mode.chained_assignment = None\n",
    "import seaborn as sns\n",
    "import matplotlib.pyplot as plt\n",
    "from scipy.stats import stats"
   ]
  },
  {
   "cell_type": "markdown",
   "metadata": {},
   "source": [
    "##### Analyze this data in as many ways possible ways, including multivariate analysis, to generate insights for predictive modeling."
   ]
  },
  {
   "cell_type": "code",
   "execution_count": 2,
   "metadata": {},
   "outputs": [],
   "source": [
    "df=pd.read_csv(\"DFP_solution.csv\")\n",
    "df[\"DATE\"]=pd.to_datetime(df[\"DATE\"])\n",
    "df[\"position_only\"]=df[\"position\"].apply(lambda x: x[:x.find(\",\")])\n",
    "df[\"case\"]=df[\"position\"].apply(lambda x: x[x.find(\",\")+1:])"
   ]
  },
  {
   "cell_type": "markdown",
   "metadata": {},
   "source": [
    "### Correlation"
   ]
  },
  {
   "cell_type": "code",
   "execution_count": 11,
   "metadata": {},
   "outputs": [],
   "source": [
    "#Let us aggregate the data  and try to find correlation between \n",
    "#Dependent Variable (numeric) : 'Tags_served', 'Impressions', 'Clicks', 'CTR'\n",
    "#Target Variable: 'Actual_eCPM'\n",
    "\n",
    "df_filter=df[[\"DATE\",'Tags_served', 'Impressions', 'Clicks', 'CTR','Actual_eCPM']]\n",
    "\n",
    "#Data Normalization using z score\n",
    "df_filter[\"Tags_served\"]=(df_filter[\"Tags_served\"]-df_filter[\"Tags_served\"].mean())/(df_filter[\"Tags_served\"].std())\n",
    "df_filter[\"Impressions\"]=(df_filter[\"Impressions\"]-df_filter[\"Impressions\"].mean())/(df_filter[\"Impressions\"].std())\n",
    "df_filter[\"Clicks\"]=(df_filter[\"Clicks\"]-df_filter[\"Clicks\"].mean())/(df_filter[\"Clicks\"].std())\n",
    "df_filter[\"CTR\"]=(df_filter[\"CTR\"]-df_filter[\"CTR\"].mean())/(df_filter[\"CTR\"].std())\n",
    "df_filter[\"Actual_eCPM\"]=(df_filter[\"Actual_eCPM\"]-df_filter[\"Actual_eCPM\"].mean())/(df_filter[\"Actual_eCPM\"].std())\n",
    "\n",
    "#Correlation\n",
    "df_corr=df_filter.groupby([\"DATE\"],as_index=False).sum().corr()"
   ]
  },
  {
   "cell_type": "code",
   "execution_count": 4,
   "metadata": {},
   "outputs": [
    {
     "data": {
      "text/html": [
       "<div>\n",
       "<style scoped>\n",
       "    .dataframe tbody tr th:only-of-type {\n",
       "        vertical-align: middle;\n",
       "    }\n",
       "\n",
       "    .dataframe tbody tr th {\n",
       "        vertical-align: top;\n",
       "    }\n",
       "\n",
       "    .dataframe thead th {\n",
       "        text-align: right;\n",
       "    }\n",
       "</style>\n",
       "<table border=\"1\" class=\"dataframe\">\n",
       "  <thead>\n",
       "    <tr style=\"text-align: right;\">\n",
       "      <th></th>\n",
       "      <th>Tags_served</th>\n",
       "      <th>Impressions</th>\n",
       "      <th>Clicks</th>\n",
       "      <th>CTR</th>\n",
       "      <th>Actual_eCPM</th>\n",
       "    </tr>\n",
       "  </thead>\n",
       "  <tbody>\n",
       "    <tr>\n",
       "      <th>Tags_served</th>\n",
       "      <td>1.000000</td>\n",
       "      <td>0.998562</td>\n",
       "      <td>0.991794</td>\n",
       "      <td>0.935492</td>\n",
       "      <td>-0.824749</td>\n",
       "    </tr>\n",
       "    <tr>\n",
       "      <th>Impressions</th>\n",
       "      <td>0.998562</td>\n",
       "      <td>1.000000</td>\n",
       "      <td>0.994322</td>\n",
       "      <td>0.931254</td>\n",
       "      <td>-0.817577</td>\n",
       "    </tr>\n",
       "    <tr>\n",
       "      <th>Clicks</th>\n",
       "      <td>0.991794</td>\n",
       "      <td>0.994322</td>\n",
       "      <td>1.000000</td>\n",
       "      <td>0.905069</td>\n",
       "      <td>-0.783718</td>\n",
       "    </tr>\n",
       "    <tr>\n",
       "      <th>CTR</th>\n",
       "      <td>0.935492</td>\n",
       "      <td>0.931254</td>\n",
       "      <td>0.905069</td>\n",
       "      <td>1.000000</td>\n",
       "      <td>-0.876396</td>\n",
       "    </tr>\n",
       "    <tr>\n",
       "      <th>Actual_eCPM</th>\n",
       "      <td>-0.824749</td>\n",
       "      <td>-0.817577</td>\n",
       "      <td>-0.783718</td>\n",
       "      <td>-0.876396</td>\n",
       "      <td>1.000000</td>\n",
       "    </tr>\n",
       "  </tbody>\n",
       "</table>\n",
       "</div>"
      ],
      "text/plain": [
       "             Tags_served  Impressions    Clicks       CTR  Actual_eCPM\n",
       "Tags_served     1.000000     0.998562  0.991794  0.935492    -0.824749\n",
       "Impressions     0.998562     1.000000  0.994322  0.931254    -0.817577\n",
       "Clicks          0.991794     0.994322  1.000000  0.905069    -0.783718\n",
       "CTR             0.935492     0.931254  0.905069  1.000000    -0.876396\n",
       "Actual_eCPM    -0.824749    -0.817577 -0.783718 -0.876396     1.000000"
      ]
     },
     "execution_count": 4,
     "metadata": {},
     "output_type": "execute_result"
    }
   ],
   "source": [
    "#result\n",
    "df_corr"
   ]
  },
  {
   "cell_type": "code",
   "execution_count": 5,
   "metadata": {},
   "outputs": [
    {
     "data": {
      "image/png": "[encoded data removed]",
      "text/plain": [
       "<Figure size 432x288 with 2 Axes>"
      ]
     },
     "metadata": {},
     "output_type": "display_data"
    }
   ],
   "source": [
    "#Correlation Visualization\n",
    "sns.heatmap(df_corr,cmap=\"summer\")\n",
    "plt.show()"
   ]
  },
  {
   "cell_type": "markdown",
   "metadata": {},
   "source": [
    "### Analysis of Variance (ANNOVA)"
   ]
  },
  {
   "cell_type": "markdown",
   "metadata": {},
   "source": [
    "#### 1) Between Advertiser name &eCPM"
   ]
  },
  {
   "cell_type": "code",
   "execution_count": 6,
   "metadata": {},
   "outputs": [
    {
     "data": {
      "text/plain": [
       "F_onewayResult(statistic=1.6525547704260932, pvalue=0.029759091806807896)"
      ]
     },
     "execution_count": 6,
     "metadata": {},
     "output_type": "execute_result"
    }
   ],
   "source": [
    "df_filter=df[[\"DATE\",\"ADVERTISER_NAME\",\"Actual_eCPM\"]].groupby([\"DATE\",\"ADVERTISER_NAME\"],as_index=False).sum()\n",
    "advertiser=list(df_filter[\"ADVERTISER_NAME\"].unique())\n",
    "df_filter[\"Actual_eCPM\"]=(df[\"Actual_eCPM\"]-df[\"Actual_eCPM\"].mean())/(df[\"Actual_eCPM\"].std())\n",
    "data=[]\n",
    "for name in advertiser:\n",
    "    data.append(df_filter[df_filter[\"ADVERTISER_NAME\"]==name][\"Actual_eCPM\"].values)\n",
    "# Perform the ANOVA\n",
    "stats.f_oneway(data[0],data[1],data[2],data[3],data[4],data[5],data[6],data[7],data[8],data[9],data[10],data[11],data[12],data[13],data[14],data[15],data[16],data[17],data[18],data[19],data[20],data[21],data[22])"
   ]
  },
  {
   "cell_type": "markdown",
   "metadata": {},
   "source": [
    "#### 2) Between Position & eCPM"
   ]
  },
  {
   "cell_type": "code",
   "execution_count": 7,
   "metadata": {},
   "outputs": [
    {
     "data": {
      "text/plain": [
       "F_onewayResult(statistic=2.5499613763377273, pvalue=0.013097939987135692)"
      ]
     },
     "execution_count": 7,
     "metadata": {},
     "output_type": "execute_result"
    }
   ],
   "source": [
    "df_filter=df[[\"DATE\",\"position_only\",\"Actual_eCPM\"]].groupby([\"DATE\",\"position_only\"],as_index=False).sum()\n",
    "positions=list(df_filter[\"position_only\"].unique())\n",
    "df_filter[\"Actual_eCPM\"]=(df[\"Actual_eCPM\"]-df[\"Actual_eCPM\"].mean())/(df[\"Actual_eCPM\"].std())\n",
    "data=[]\n",
    "for name in positions:\n",
    "    data.append(df_filter[df_filter[\"position_only\"]==name][\"Actual_eCPM\"].values)\n",
    "# Perform the ANOVA\n",
    "stats.f_oneway(data[0],data[1],data[2],data[3],data[4],data[5],data[6],data[7])"
   ]
  },
  {
   "cell_type": "markdown",
   "metadata": {},
   "source": [
    "#### 3) Between Case & eCPM [Case -> Amp or Nonamp]"
   ]
  },
  {
   "cell_type": "code",
   "execution_count": 8,
   "metadata": {},
   "outputs": [
    {
     "data": {
      "text/plain": [
       "F_onewayResult(statistic=1.8903525992855985, pvalue=0.16996804008890795)"
      ]
     },
     "execution_count": 8,
     "metadata": {},
     "output_type": "execute_result"
    }
   ],
   "source": [
    "df_filter=df[[\"DATE\",\"case\",\"Actual_eCPM\"]].groupby([\"DATE\",\"case\"],as_index=False).sum()\n",
    "cases=list(df_filter[\"case\"].unique())\n",
    "df_filter[\"Actual_eCPM\"]=(df[\"Actual_eCPM\"]-df[\"Actual_eCPM\"].mean())/(df[\"Actual_eCPM\"].std())\n",
    "data=[]\n",
    "for name in cases:\n",
    "    data.append(df_filter[df_filter[\"case\"]==name][\"Actual_eCPM\"].values)\n",
    "# Perform the ANOVA\n",
    "stats.f_oneway(data[0],data[1])"
   ]
  },
  {
   "cell_type": "markdown",
   "metadata": {},
   "source": [
    "#### 4) Between story & eCPM"
   ]
  },
  {
   "cell_type": "code",
   "execution_count": 9,
   "metadata": {},
   "outputs": [
    {
     "data": {
      "text/plain": [
       "F_onewayResult(statistic=0.7741784254145072, pvalue=0.6778022576087701)"
      ]
     },
     "execution_count": 9,
     "metadata": {},
     "output_type": "execute_result"
    }
   ],
   "source": [
    "df_filter=df[[\"DATE\",\"story\",\"Actual_eCPM\"]].groupby([\"DATE\",\"story\"],as_index=False).sum()\n",
    "stories=list(df_filter[\"story\"].unique())\n",
    "df_filter[\"Actual_eCPM\"]=(df[\"Actual_eCPM\"]-df[\"Actual_eCPM\"].mean())/(df[\"Actual_eCPM\"].std())\n",
    "data=[]\n",
    "for name in stories:\n",
    "    data.append(df_filter[df_filter[\"story\"]==name][\"Actual_eCPM\"].values)\n",
    "# Perform the ANOVA\n",
    "stats.f_oneway(data[0],data[1],data[2],data[3],data[4],data[5],data[6],data[7],data[8],data[9],data[10],data[11],data[12])"
   ]
  },
  {
   "cell_type": "markdown",
   "metadata": {},
   "source": [
    "#### 5) Between Day & eCPM"
   ]
  },
  {
   "cell_type": "code",
   "execution_count": 10,
   "metadata": {},
   "outputs": [
    {
     "data": {
      "text/plain": [
       "F_onewayResult(statistic=0.5393881145923819, pvalue=0.7778871597664441)"
      ]
     },
     "execution_count": 10,
     "metadata": {},
     "output_type": "execute_result"
    }
   ],
   "source": [
    "df_filter=df[[\"DATE\",\"DAY\",\"Actual_eCPM\"]].groupby([\"DATE\",\"DAY\"],as_index=False).sum()\n",
    "days=list(df_filter[\"DAY\"].unique())\n",
    "df_filter[\"Actual_eCPM\"]=(df[\"Actual_eCPM\"]-df[\"Actual_eCPM\"].mean())/(df[\"Actual_eCPM\"].std())\n",
    "data=[]\n",
    "for name in days:\n",
    "    data.append(df_filter[df_filter[\"DAY\"]==name][\"Actual_eCPM\"].values)\n",
    "# Perform the ANOVA\n",
    "stats.f_oneway(data[0],data[1],data[2],data[3],data[4],data[5],data[6])"
   ]
  }
 ],
 "metadata": {
  "kernelspec": {
   "display_name": "Python 3",
   "language": "python",
   "name": "python3"
  },
  "language_info": {
   "codemirror_mode": {
    "name": "ipython",
    "version": 3
   },
   "file_extension": ".py",
   "mimetype": "text/x-python",
   "name": "python",
   "nbconvert_exporter": "python",
   "pygments_lexer": "ipython3",
   "version": "3.6.5"
  }
 },
 "nbformat": 4,
 "nbformat_minor": 2
}
