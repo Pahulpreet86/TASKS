{
 "cells": [
  {
   "cell_type": "markdown",
   "metadata": {},
   "source": [
    "### 3. Bonus Task: Predict the Aggregate eCPM ( combining ( aggregating on ) both Amp and Non-Amp ) for 1 month."
   ]
  },
  {
   "cell_type": "code",
   "execution_count": 8,
   "metadata": {},
   "outputs": [],
   "source": [
    "import pandas as pd\n",
    "import numpy as np\n",
    "from math import ceil,floor\n",
    "from sklearn.ensemble import RandomForestRegressor\n",
    "from sklearn.metrics import mean_squared_error\n",
    "import warnings\n",
    "from sklearn.cross_validation import train_test_split,cross_val_score\n",
    "warnings.simplefilter('ignore', DeprecationWarning)\n",
    "warnings.simplefilter('ignore', RuntimeWarning)"
   ]
  },
  {
   "cell_type": "code",
   "execution_count": 9,
   "metadata": {},
   "outputs": [],
   "source": [
    "def week_of_month(dt):\n",
    "    first_day = dt.replace(day=1)\n",
    "    dom = dt.day\n",
    "    adjusted_dom = dom + first_day.weekday()\n",
    "    return int(ceil(adjusted_dom/7.0))"
   ]
  },
  {
   "cell_type": "code",
   "execution_count": 10,
   "metadata": {},
   "outputs": [],
   "source": [
    "df=pd.read_csv(\"DFP_solution.csv\")\n",
    "\n",
    "#Data pre-processing\n",
    "df[\"DATE\"]=pd.to_datetime(df[\"DATE\"])\n",
    "data=df[[\"DATE\",\"Actual_eCPM\",\"Tags_served\",\"Impressions\",\"Clicks\",\"CTR\"]].groupby([\"DATE\"],as_index=False).sum()\n",
    "map_day={\"Monday\":1,\"Tuesday\":2,\"Wednesday\":3,\"Thursday\":4,\"Friday\":5,\"Saturday\":6,\"Sunday\":7}\n",
    "data[\"Day_number\"]=data[\"DATE\"].apply(lambda x: map_day[x.date().strftime(\"%A\")])\n",
    "data[\"Week_number\"]=data[\"DATE\"].apply(lambda x: week_of_month(x))\n",
    "data=data[['Actual_eCPM','Tags_served', 'Impressions', 'Clicks', 'CTR','Day_number', 'Week_number']]"
   ]
  },
  {
   "cell_type": "code",
   "execution_count": 11,
   "metadata": {},
   "outputs": [],
   "source": [
    "#Feature and Target Variable\n",
    "feature=data.iloc[:,1:]\n",
    "target=data.iloc[:,0]"
   ]
  },
  {
   "cell_type": "code",
   "execution_count": 12,
   "metadata": {},
   "outputs": [
    {
     "data": {
      "text/plain": [
       "RandomForestRegressor(bootstrap=False, criterion='mse', max_depth=8,\n",
       "           max_features='auto', max_leaf_nodes=None,\n",
       "           min_impurity_decrease=0.0, min_impurity_split=None,\n",
       "           min_samples_leaf=1, min_samples_split=2,\n",
       "           min_weight_fraction_leaf=0.0, n_estimators=8, n_jobs=4,\n",
       "           oob_score=False, random_state=21, verbose=0, warm_start=False)"
      ]
     },
     "execution_count": 12,
     "metadata": {},
     "output_type": "execute_result"
    }
   ],
   "source": [
    "#Modelling\n",
    "#Parameter are tuned using grid cv search\n",
    "model=RandomForestRegressor(n_estimators=8,random_state=21,max_depth=8,min_samples_split=2,min_samples_leaf=1,n_jobs=4,bootstrap=False)\n",
    "model.fit(feature,target)"
   ]
  },
  {
   "cell_type": "code",
   "execution_count": 13,
   "metadata": {},
   "outputs": [],
   "source": [
    "df=pd.read_csv(\"DFP_prediction.csv\")\n",
    "#Data pre-processing\n",
    "df[\"DATE\"]=pd.to_datetime(df[\"DATE\"])\n",
    "data=df[[\"DATE\",\"Tags_served\",\"Impressions\",\"Clicks\",\"CTR\"]].groupby([\"DATE\"],as_index=False).sum()\n",
    "map_day={\"Monday\":1,\"Tuesday\":2,\"Wednesday\":3,\"Thursday\":4,\"Friday\":5,\"Saturday\":6,\"Sunday\":7}\n",
    "data[\"Day_number\"]=data[\"DATE\"].apply(lambda x: map_day[x.date().strftime(\"%A\")])\n",
    "data[\"Week_number\"]=data[\"DATE\"].apply(lambda x: week_of_month(x))\n",
    "data=data[['Tags_served', 'Impressions', 'Clicks', 'CTR','Day_number', 'Week_number']]"
   ]
  },
  {
   "cell_type": "code",
   "execution_count": 14,
   "metadata": {},
   "outputs": [],
   "source": [
    "predictions=model.predict(data)"
   ]
  },
  {
   "cell_type": "code",
   "execution_count": 15,
   "metadata": {},
   "outputs": [],
   "source": [
    "df=pd.read_csv(\"sub.csv\")\n",
    "df[\"eCPM\"]=predictions\n",
    "df.to_csv(\"sub.csv\",index=False)"
   ]
  }
 ],
 "metadata": {
  "kernelspec": {
   "display_name": "Python 3",
   "language": "python",
   "name": "python3"
  },
  "language_info": {
   "codemirror_mode": {
    "name": "ipython",
    "version": 3
   },
   "file_extension": ".py",
   "mimetype": "text/x-python",
   "name": "python",
   "nbconvert_exporter": "python",
   "pygments_lexer": "ipython3",
   "version": "3.6.5"
  }
 },
 "nbformat": 4,
 "nbformat_minor": 2
}
